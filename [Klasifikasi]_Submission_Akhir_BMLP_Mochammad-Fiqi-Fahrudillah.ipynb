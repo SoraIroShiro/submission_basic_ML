{
  "cells": [
    {
      "cell_type": "markdown",
      "metadata": {
        "id": "fKADPWcFKlj3"
      },
      "source": [
        "# **1. Import Library**"
      ]
    },
    {
      "cell_type": "markdown",
      "metadata": {
        "id": "LgA3ERnVn84N"
      },
      "source": [
        "Pada tahap ini, Anda perlu mengimpor beberapa pustaka (library) Python yang dibutuhkan untuk analisis data dan pembangunan model machine learning."
      ]
    },
    {
      "cell_type": "code",
      "execution_count": 1,
      "metadata": {
        "id": "BlmvjLY9M4Yj"
      },
      "outputs": [],
      "source": [
        "import pandas as pd\n",
        "from sklearn.model_selection import train_test_split\n",
        "from sklearn.linear_model import LogisticRegression\n",
        "from sklearn.tree import DecisionTreeClassifier\n",
        "from sklearn.ensemble import RandomForestClassifier\n",
        "from sklearn.neighbors import KNeighborsClassifier\n",
        "from sklearn.metrics import accuracy_score\n",
        "from sklearn.metrics import classification_report, confusion_matrix, accuracy_score\n",
        "from sklearn.model_selection import GridSearchCV\n",
        "from sklearn.neighbors import KNeighborsClassifier\n",
        "from sklearn.preprocessing import StandardScaler\n"
      ]
    },
    {
      "cell_type": "markdown",
      "metadata": {
        "id": "f3YIEnAFKrKL"
      },
      "source": [
        "# **2. Memuat Dataset dari Hasil Clustering**"
      ]
    },
    {
      "cell_type": "markdown",
      "metadata": {
        "id": "Ey3ItwTen_7E"
      },
      "source": [
        "Memuat dataset hasil clustering dari file CSV ke dalam variabel DataFrame."
      ]
    },
    {
      "cell_type": "code",
      "execution_count": 2,
      "metadata": {
        "id": "GHCGNTyrM5fS"
      },
      "outputs": [
        {
          "name": "stdout",
          "output_type": "stream",
          "text": [
            "<class 'pandas.core.frame.DataFrame'>\n",
            "RangeIndex: 5224 entries, 0 to 5223\n",
            "Data columns (total 8 columns):\n",
            " #   Column    Non-Null Count  Dtype  \n",
            "---  ------    --------------  -----  \n",
            " 0   provinsi  5224 non-null   object \n",
            " 1   jenis     5224 non-null   object \n",
            " 2   daerah    5224 non-null   object \n",
            " 3   tahun     5224 non-null   float64\n",
            " 4   periode   5224 non-null   object \n",
            " 5   gk        5224 non-null   float64\n",
            " 6   cluster   5224 non-null   int64  \n",
            " 7   Cluster   5224 non-null   int64  \n",
            "dtypes: float64(2), int64(2), object(4)\n",
            "memory usage: 326.6+ KB\n",
            "Kolom dalam dataset: Index(['provinsi', 'jenis', 'daerah', 'tahun', 'periode', 'gk', 'cluster',\n",
            "       'Cluster'],\n",
            "      dtype='object')\n"
          ]
        }
      ],
      "source": [
        "# Memuat dataset\n",
        "file_path = \"clustered_garis_kemiskinan.csv\"\n",
        "df = pd.read_csv(file_path)\n",
        "\n",
        "# Menampilkan informasi awal tentang dataset\n",
        "df.info(), df.head()\n",
        "\n",
        "# Pastikan kolom fitur dan target ada dalam dataset\n",
        "print(\"Kolom dalam dataset:\", df.columns)"
      ]
    },
    {
      "cell_type": "markdown",
      "metadata": {
        "id": "KkPem5eWL2UP"
      },
      "source": [
        "# **3. Data Splitting**"
      ]
    },
    {
      "cell_type": "markdown",
      "metadata": {
        "id": "YYj1rl_JNI9Y"
      },
      "source": [
        "Tahap Data Splitting bertujuan untuk memisahkan dataset menjadi dua bagian: data latih (training set) dan data uji (test set)."
      ]
    },
    {
      "cell_type": "code",
      "execution_count": 3,
      "metadata": {
        "id": "OubAW-7ONKVj"
      },
      "outputs": [
        {
          "name": "stdout",
          "output_type": "stream",
          "text": [
            "X_train_scaled shape: (4179, 2)\n",
            "y_train shape: (4179,)\n"
          ]
        }
      ],
      "source": [
        "\n",
        "\n",
        "# Memilih fitur dan target\n",
        "X = df[['gk', 'tahun']]  # Sesuaikan nama kolom jika perlu\n",
        "y = df['Cluster']  # Pastikan ini adalah kolom target\n",
        "\n",
        "# Membagi dataset menjadi training (80%) dan testing (20%)\n",
        "X_train, X_test, y_train, y_test = train_test_split(X, y, test_size=0.2, random_state=42, stratify=y)\n",
        "\n",
        "# Melakukan normalisasi fitur numerik menggunakan StandardScaler\n",
        "scaler = StandardScaler()\n",
        "X_train_scaled = scaler.fit_transform(X_train)\n",
        "X_test_scaled = scaler.transform(X_test)\n",
        "\n",
        "# Pastikan hasil split berhasil\n",
        "print(f\"X_train_scaled shape: {X_train_scaled.shape}\")\n",
        "print(f\"y_train shape: {y_train.shape}\")"
      ]
    },
    {
      "cell_type": "markdown",
      "metadata": {
        "id": "IVPbB03CMhTT"
      },
      "source": [
        "# **4. Membangun Model Klasifikasi**\n"
      ]
    },
    {
      "cell_type": "markdown",
      "metadata": {
        "id": "Ned1pL9zMmBK"
      },
      "source": [
        "## **a. Membangun Model Klasifikasi**"
      ]
    },
    {
      "cell_type": "markdown",
      "metadata": {
        "id": "WAWzPOE4Nkti"
      },
      "source": [
        "Setelah memilih algoritma klasifikasi yang sesuai, langkah selanjutnya adalah melatih model menggunakan data latih.\n",
        "\n",
        "Berikut adalah rekomendasi tahapannya.\n",
        "1. Pilih algoritma klasifikasi yang sesuai, seperti Logistic Regression, Decision Tree, Random Forest, atau K-Nearest Neighbors (KNN).\n",
        "2. Latih model menggunakan data latih."
      ]
    },
    {
      "cell_type": "code",
      "execution_count": 4,
      "metadata": {
        "id": "4JYxBe87NLDk"
      },
      "outputs": [
        {
          "data": {
            "text/plain": [
              "{'Logistic Regression': 0.3751196172248804,\n",
              " 'Decision Tree': 0.3894736842105263,\n",
              " 'Random Forest': 0.384688995215311,\n",
              " 'K-Nearest Neighbors': 0.34832535885167465}"
            ]
          },
          "execution_count": 4,
          "metadata": {},
          "output_type": "execute_result"
        }
      ],
      "source": [
        "# Inisialisasi model\n",
        "models = {\n",
        "    \"Logistic Regression\": LogisticRegression(max_iter=1000, random_state=42),\n",
        "    \"Decision Tree\": DecisionTreeClassifier(random_state=42),\n",
        "    \"Random Forest\": RandomForestClassifier(n_estimators=100, random_state=42),\n",
        "    \"K-Nearest Neighbors\": KNeighborsClassifier(n_neighbors=5)\n",
        "}\n",
        "\n",
        "# Melatih dan mengevaluasi model awal\n",
        "results = {}\n",
        "for name, model in models.items():\n",
        "    model.fit(X_train, y_train)  # Melatih model\n",
        "    y_pred = model.predict(X_test)  # Prediksi\n",
        "    accuracy = accuracy_score(y_test, y_pred)  # Menghitung akurasi\n",
        "    results[name] = accuracy\n",
        "\n",
        "# Menampilkan hasil akurasi awal\n",
        "results"
      ]
    },
    {
      "cell_type": "markdown",
      "metadata": {
        "id": "seYoHNY3XU1y"
      },
      "source": [
        "\n",
        "\n",
        "**terlihat Logistic regression, decicions tree, dan random forest mendapat nilai 1.0.**\\\n",
        "dimana itu artinya musngkin terdapat overfitting.\\\n",
        "Jadi saya memilih KNN untu dituning lagi."
      ]
    },
    {
      "cell_type": "markdown",
      "metadata": {
        "id": "ergzChZFEL-O"
      },
      "source": [
        "## **b. Evaluasi Model Klasifikasi**"
      ]
    },
    {
      "cell_type": "markdown",
      "metadata": {
        "id": "zOm68u-7NpLT"
      },
      "source": [
        "Berikut adalah **rekomendasi** tahapannya.\n",
        "1. Lakukan prediksi menggunakan data uji.\n",
        "2. Hitung metrik evaluasi seperti Accuracy dan F1-Score (Opsional: Precision dan Recall).\n",
        "3. Buat confusion matrix untuk melihat detail prediksi benar dan salah."
      ]
    },
    {
      "cell_type": "code",
      "execution_count": 5,
      "metadata": {
        "id": "tMq4QAssNLip"
      },
      "outputs": [
        {
          "name": "stderr",
          "output_type": "stream",
          "text": [
            "c:\\Users\\Reina_Chi\\AppData\\Local\\Programs\\Python\\Python313\\Lib\\site-packages\\sklearn\\metrics\\_classification.py:1565: UndefinedMetricWarning: Precision is ill-defined and being set to 0.0 in labels with no predicted samples. Use `zero_division` parameter to control this behavior.\n",
            "  _warn_prf(average, modifier, f\"{metric.capitalize()} is\", len(result))\n",
            "c:\\Users\\Reina_Chi\\AppData\\Local\\Programs\\Python\\Python313\\Lib\\site-packages\\sklearn\\metrics\\_classification.py:1565: UndefinedMetricWarning: Precision is ill-defined and being set to 0.0 in labels with no predicted samples. Use `zero_division` parameter to control this behavior.\n",
            "  _warn_prf(average, modifier, f\"{metric.capitalize()} is\", len(result))\n",
            "c:\\Users\\Reina_Chi\\AppData\\Local\\Programs\\Python\\Python313\\Lib\\site-packages\\sklearn\\metrics\\_classification.py:1565: UndefinedMetricWarning: Precision is ill-defined and being set to 0.0 in labels with no predicted samples. Use `zero_division` parameter to control this behavior.\n",
            "  _warn_prf(average, modifier, f\"{metric.capitalize()} is\", len(result))\n"
          ]
        },
        {
          "data": {
            "text/plain": [
              "{'Logistic Regression': {'0': {'precision': 0.3668763102725367,\n",
              "   'recall': 0.49575070821529743,\n",
              "   'f1-score': 0.42168674698795183,\n",
              "   'support': 353.0},\n",
              "  '1': {'precision': 0.38204225352112675,\n",
              "   'recall': 0.6027777777777777,\n",
              "   'f1-score': 0.4676724137931034,\n",
              "   'support': 360.0},\n",
              "  '2': {'precision': 0.0, 'recall': 0.0, 'f1-score': 0.0, 'support': 332.0},\n",
              "  'accuracy': 0.3751196172248804,\n",
              "  'macro avg': {'precision': 0.2496395212645545,\n",
              "   'recall': 0.3661761619976917,\n",
              "   'f1-score': 0.29645305359368507,\n",
              "   'support': 1045.0},\n",
              "  'weighted avg': {'precision': 0.2555431088935991,\n",
              "   'recall': 0.3751196172248804,\n",
              "   'f1-score': 0.3035574073227409,\n",
              "   'support': 1045.0}},\n",
              " 'Decision Tree': {'0': {'precision': 0.38186813186813184,\n",
              "   'recall': 0.3937677053824363,\n",
              "   'f1-score': 0.3877266387726639,\n",
              "   'support': 353.0},\n",
              "  '1': {'precision': 0.3988439306358382,\n",
              "   'recall': 0.38333333333333336,\n",
              "   'f1-score': 0.3909348441926346,\n",
              "   'support': 360.0},\n",
              "  '2': {'precision': 0.3880597014925373,\n",
              "   'recall': 0.39156626506024095,\n",
              "   'f1-score': 0.38980509745127434,\n",
              "   'support': 332.0},\n",
              "  'accuracy': 0.3894736842105263,\n",
              "  'macro avg': {'precision': 0.3895905879988358,\n",
              "   'recall': 0.3895557679253369,\n",
              "   'f1-score': 0.3894888601388576,\n",
              "   'support': 1045.0},\n",
              "  'weighted avg': {'precision': 0.38968333633863605,\n",
              "   'recall': 0.3894736842105263,\n",
              "   'f1-score': 0.3894921911482506,\n",
              "   'support': 1045.0}},\n",
              " 'Random Forest': {'0': {'precision': 0.37746478873239436,\n",
              "   'recall': 0.37960339943342775,\n",
              "   'f1-score': 0.3785310734463277,\n",
              "   'support': 353.0},\n",
              "  '1': {'precision': 0.3878116343490305,\n",
              "   'recall': 0.3888888888888889,\n",
              "   'f1-score': 0.3883495145631068,\n",
              "   'support': 360.0},\n",
              "  '2': {'precision': 0.3890577507598784,\n",
              "   'recall': 0.3855421686746988,\n",
              "   'f1-score': 0.38729198184568836,\n",
              "   'support': 332.0},\n",
              "  'accuracy': 0.384688995215311,\n",
              "  'macro avg': {'precision': 0.3847780579471011,\n",
              "   'recall': 0.38467815233233854,\n",
              "   'f1-score': 0.3847241899517076,\n",
              "   'support': 1045.0},\n",
              "  'weighted avg': {'precision': 0.3847123751583405,\n",
              "   'recall': 0.384688995215311,\n",
              "   'f1-score': 0.3846968728631968,\n",
              "   'support': 1045.0}},\n",
              " 'K-Nearest Neighbors': {'0': {'precision': 0.3477366255144033,\n",
              "   'recall': 0.47875354107648727,\n",
              "   'f1-score': 0.4028605482717521,\n",
              "   'support': 353.0},\n",
              "  '1': {'precision': 0.3706070287539936,\n",
              "   'recall': 0.32222222222222224,\n",
              "   'f1-score': 0.3447251114413076,\n",
              "   'support': 360.0},\n",
              "  '2': {'precision': 0.32113821138211385,\n",
              "   'recall': 0.23795180722891565,\n",
              "   'f1-score': 0.27335640138408307,\n",
              "   'support': 332.0},\n",
              "  'accuracy': 0.34832535885167465,\n",
              "  'macro avg': {'precision': 0.3464939552168369,\n",
              "   'recall': 0.3463091901758751,\n",
              "   'f1-score': 0.34031402036571423,\n",
              "   'support': 1045.0},\n",
              "  'weighted avg': {'precision': 0.3471650194611328,\n",
              "   'recall': 0.34832535885167465,\n",
              "   'f1-score': 0.34168912815149743,\n",
              "   'support': 1045.0}}}"
            ]
          },
          "execution_count": 5,
          "metadata": {},
          "output_type": "execute_result"
        }
      ],
      "source": [
        "# Evaluasi setiap model lebih lanjut\n",
        "evaluation_results = {}\n",
        "confusion_matrices = {}\n",
        "\n",
        "for name, model in models.items():\n",
        "    y_pred = model.predict(X_test)  # Prediksi data uji\n",
        "    \n",
        "    # Menghitung metrik evaluasi\n",
        "    report = classification_report(y_test, y_pred, output_dict=True)\n",
        "    evaluation_results[name] = report\n",
        "    \n",
        "    # Menghitung confusion matrix\n",
        "    confusion_matrices[name] = confusion_matrix(y_test, y_pred)\n",
        "\n",
        "# Menampilkan hasil evaluasi model\n",
        "evaluation_results"
      ]
    },
    {
      "cell_type": "code",
      "execution_count": 6,
      "metadata": {},
      "outputs": [
        {
          "data": {
            "text/html": [
              "<div>\n",
              "<style scoped>\n",
              "    .dataframe tbody tr th:only-of-type {\n",
              "        vertical-align: middle;\n",
              "    }\n",
              "\n",
              "    .dataframe tbody tr th {\n",
              "        vertical-align: top;\n",
              "    }\n",
              "\n",
              "    .dataframe thead th {\n",
              "        text-align: right;\n",
              "    }\n",
              "</style>\n",
              "<table border=\"1\" class=\"dataframe\">\n",
              "  <thead>\n",
              "    <tr style=\"text-align: right;\">\n",
              "      <th></th>\n",
              "      <th>Model</th>\n",
              "      <th>Accuracy</th>\n",
              "      <th>Precision (Kelas 0)</th>\n",
              "      <th>Precision (Kelas 1)</th>\n",
              "      <th>Precision (Kelas 2)</th>\n",
              "      <th>Recall (Kelas 0)</th>\n",
              "      <th>Recall (Kelas 1)</th>\n",
              "      <th>Recall (Kelas 2)</th>\n",
              "      <th>F1-Score (Kelas 0)</th>\n",
              "      <th>F1-Score (Kelas 1)</th>\n",
              "      <th>F1-Score (Kelas 2)</th>\n",
              "    </tr>\n",
              "  </thead>\n",
              "  <tbody>\n",
              "    <tr>\n",
              "      <th>0</th>\n",
              "      <td>Logistic Regression</td>\n",
              "      <td>0.375120</td>\n",
              "      <td>0.366876</td>\n",
              "      <td>0.382042</td>\n",
              "      <td>0.000000</td>\n",
              "      <td>0.495751</td>\n",
              "      <td>0.602778</td>\n",
              "      <td>0.000000</td>\n",
              "      <td>0.421687</td>\n",
              "      <td>0.467672</td>\n",
              "      <td>0.000000</td>\n",
              "    </tr>\n",
              "    <tr>\n",
              "      <th>1</th>\n",
              "      <td>Decision Tree</td>\n",
              "      <td>0.389474</td>\n",
              "      <td>0.381868</td>\n",
              "      <td>0.398844</td>\n",
              "      <td>0.388060</td>\n",
              "      <td>0.393768</td>\n",
              "      <td>0.383333</td>\n",
              "      <td>0.391566</td>\n",
              "      <td>0.387727</td>\n",
              "      <td>0.390935</td>\n",
              "      <td>0.389805</td>\n",
              "    </tr>\n",
              "    <tr>\n",
              "      <th>2</th>\n",
              "      <td>Random Forest</td>\n",
              "      <td>0.384689</td>\n",
              "      <td>0.377465</td>\n",
              "      <td>0.387812</td>\n",
              "      <td>0.389058</td>\n",
              "      <td>0.379603</td>\n",
              "      <td>0.388889</td>\n",
              "      <td>0.385542</td>\n",
              "      <td>0.378531</td>\n",
              "      <td>0.388350</td>\n",
              "      <td>0.387292</td>\n",
              "    </tr>\n",
              "    <tr>\n",
              "      <th>3</th>\n",
              "      <td>K-Nearest Neighbors</td>\n",
              "      <td>0.348325</td>\n",
              "      <td>0.347737</td>\n",
              "      <td>0.370607</td>\n",
              "      <td>0.321138</td>\n",
              "      <td>0.478754</td>\n",
              "      <td>0.322222</td>\n",
              "      <td>0.237952</td>\n",
              "      <td>0.402861</td>\n",
              "      <td>0.344725</td>\n",
              "      <td>0.273356</td>\n",
              "    </tr>\n",
              "  </tbody>\n",
              "</table>\n",
              "</div>"
            ],
            "text/plain": [
              "                 Model  Accuracy  Precision (Kelas 0)  Precision (Kelas 1)  \\\n",
              "0  Logistic Regression  0.375120             0.366876             0.382042   \n",
              "1        Decision Tree  0.389474             0.381868             0.398844   \n",
              "2        Random Forest  0.384689             0.377465             0.387812   \n",
              "3  K-Nearest Neighbors  0.348325             0.347737             0.370607   \n",
              "\n",
              "   Precision (Kelas 2)  Recall (Kelas 0)  Recall (Kelas 1)  Recall (Kelas 2)  \\\n",
              "0             0.000000          0.495751          0.602778          0.000000   \n",
              "1             0.388060          0.393768          0.383333          0.391566   \n",
              "2             0.389058          0.379603          0.388889          0.385542   \n",
              "3             0.321138          0.478754          0.322222          0.237952   \n",
              "\n",
              "   F1-Score (Kelas 0)  F1-Score (Kelas 1)  F1-Score (Kelas 2)  \n",
              "0            0.421687            0.467672            0.000000  \n",
              "1            0.387727            0.390935            0.389805  \n",
              "2            0.378531            0.388350            0.387292  \n",
              "3            0.402861            0.344725            0.273356  "
            ]
          },
          "execution_count": 6,
          "metadata": {},
          "output_type": "execute_result"
        }
      ],
      "source": [
        "# Menyiapkan data untuk tabel evaluasi\n",
        "model_names = list(evaluation_results.keys())\n",
        "accuracy_scores = [results[name] for name in model_names]\n",
        "\n",
        "precision_scores = []\n",
        "recall_scores = []\n",
        "f1_scores = []\n",
        "\n",
        "for name in model_names:\n",
        "    precision_scores.append([evaluation_results[name][str(i)]['precision'] if str(i) in evaluation_results[name] else 0 for i in range(3)])\n",
        "    recall_scores.append([evaluation_results[name][str(i)]['recall'] if str(i) in evaluation_results[name] else 0 for i in range(3)])\n",
        "    f1_scores.append([evaluation_results[name][str(i)]['f1-score'] if str(i) in evaluation_results[name] else 0 for i in range(3)])\n",
        "\n",
        "# Membuat DataFrame untuk hasil evaluasi\n",
        "eval_df = pd.DataFrame({\n",
        "    \"Model\": model_names,\n",
        "    \"Accuracy\": accuracy_scores,\n",
        "    \"Precision (Kelas 0)\": [p[0] for p in precision_scores],\n",
        "    \"Precision (Kelas 1)\": [p[1] for p in precision_scores],\n",
        "    \"Precision (Kelas 2)\": [p[2] for p in precision_scores],\n",
        "    \"Recall (Kelas 0)\": [r[0] for r in recall_scores],\n",
        "    \"Recall (Kelas 1)\": [r[1] for r in recall_scores],\n",
        "    \"Recall (Kelas 2)\": [r[2] for r in recall_scores],\n",
        "    \"F1-Score (Kelas 0)\": [f[0] for f in f1_scores],\n",
        "    \"F1-Score (Kelas 1)\": [f[1] for f in f1_scores],\n",
        "    \"F1-Score (Kelas 2)\": [f[2] for f in f1_scores],\n",
        "})\n",
        "\n",
        "# Menampilkan tabel hasil evaluasi\n",
        "eval_df"
      ]
    },
    {
      "cell_type": "markdown",
      "metadata": {
        "id": "H4_9OwrsXZlz"
      },
      "source": [
        "Tulis hasil evaluasi algoritma yang digunakan, jika Anda menggunakan 2 algoritma, maka bandingkan hasilnya."
      ]
    },
    {
      "cell_type": "markdown",
      "metadata": {
        "id": "ph9yIYDXEPuB"
      },
      "source": [
        "## **c. Tuning Model Klasifikasi (Optional)**"
      ]
    },
    {
      "cell_type": "markdown",
      "metadata": {
        "id": "-Bikx3LINv5e"
      },
      "source": [
        "Gunakan GridSearchCV, RandomizedSearchCV, atau metode lainnya untuk mencari kombinasi hyperparameter terbaik"
      ]
    },
    {
      "cell_type": "code",
      "execution_count": 7,
      "metadata": {},
      "outputs": [
        {
          "name": "stdout",
          "output_type": "stream",
          "text": [
            "X_train_scaled shape: (4179, 2)\n",
            "y_train shape: (4179,)\n",
            "Unique labels in y_train: {0, 1, 2}\n"
          ]
        }
      ],
      "source": [
        "print(f\"X_train_scaled shape: {X_train_scaled.shape}\")\n",
        "print(f\"y_train shape: {y_train.shape}\")\n",
        "print(f\"Unique labels in y_train: {set(y_train)}\")"
      ]
    },
    {
      "cell_type": "code",
      "execution_count": 8,
      "metadata": {
        "id": "winbFzb8NL95"
      },
      "outputs": [
        {
          "name": "stdout",
          "output_type": "stream",
          "text": [
            "Best KNN Parameters: {'metric': 'euclidean', 'n_neighbors': 7, 'weights': 'uniform'}\n"
          ]
        }
      ],
      "source": [
        "# Hyperparameter tuning untuk K-Nearest Neighbors (KNN)\n",
        "knn_params = {\n",
        "    \"n_neighbors\": [3, 5, 7, 9],\n",
        "    \"weights\": [\"uniform\", \"distance\"],\n",
        "    \"metric\": [\"euclidean\", \"manhattan\"],\n",
        "}\n",
        "\n",
        "grid_knn = GridSearchCV(KNeighborsClassifier(), knn_params, cv=3, scoring=\"accuracy\", n_jobs=-1, error_score=\"raise\")\n",
        "grid_knn.fit(X_train_scaled, y_train)\n",
        "\n",
        "# Menampilkan parameter terbaik untuk KNN\n",
        "print(\"Best KNN Parameters:\", grid_knn.best_params_)"
      ]
    },
    {
      "cell_type": "markdown",
      "metadata": {
        "id": "hE7pqlEPEYzI"
      },
      "source": [
        "## **d. Evaluasi Model Klasifikasi setelah Tuning (Optional)**"
      ]
    },
    {
      "cell_type": "markdown",
      "metadata": {
        "id": "feaPESoeN0zz"
      },
      "source": [
        "Berikut adalah rekomendasi tahapannya.\n",
        "1. Gunakan model dengan hyperparameter terbaik.\n",
        "2. Hitung ulang metrik evaluasi untuk melihat apakah ada peningkatan performa."
      ]
    },
    {
      "cell_type": "code",
      "execution_count": 9,
      "metadata": {
        "id": "HTXZRvEeNMb1"
      },
      "outputs": [
        {
          "name": "stdout",
          "output_type": "stream",
          "text": [
            "Accuracy setelah tuning: 0.4478\n",
            "\n",
            "Classification Report:\n",
            "              precision    recall  f1-score   support\n",
            "\n",
            "           0       0.43      0.52      0.47       353\n",
            "           1       0.48      0.47      0.47       360\n",
            "           2       0.43      0.34      0.38       332\n",
            "\n",
            "    accuracy                           0.45      1045\n",
            "   macro avg       0.45      0.45      0.44      1045\n",
            "weighted avg       0.45      0.45      0.44      1045\n",
            "\n",
            "\n",
            "Confusion Matrix:\n",
            "[[184  85  84]\n",
            " [125 170  65]\n",
            " [116 102 114]]\n"
          ]
        }
      ],
      "source": [
        "# Menggunakan model KNN dengan hyperparameter terbaik\n",
        "best_knn = KNeighborsClassifier(metric='euclidean', n_neighbors=7, weights='uniform')\n",
        "best_knn.fit(X_train_scaled, y_train)\n",
        "\n",
        "# Prediksi pada data uji\n",
        "y_pred_knn = best_knn.predict(X_test_scaled)\n",
        "\n",
        "# Evaluasi performa model\n",
        "from sklearn.metrics import accuracy_score, classification_report, confusion_matrix\n",
        "\n",
        "# Menghitung metrik evaluasi\n",
        "accuracy = accuracy_score(y_test, y_pred_knn)\n",
        "print(f\"Accuracy setelah tuning: {accuracy:.4f}\")\n",
        "\n",
        "# Menampilkan classification report\n",
        "print(\"\\nClassification Report:\")\n",
        "print(classification_report(y_test, y_pred_knn))\n",
        "\n",
        "# Menampilkan Confusion Matrix\n",
        "print(\"\\nConfusion Matrix:\")\n",
        "print(confusion_matrix(y_test, y_pred_knn))"
      ]
    },
    {
      "cell_type": "markdown",
      "metadata": {
        "id": "ZRsOdm4uEgAW"
      },
      "source": [
        "## **e. Analisis Hasil Evaluasi Model Klasifikasi**"
      ]
    },
    {
      "cell_type": "markdown",
      "metadata": {},
      "source": [
        "Analisis Hasil Evaluasi Model KNN\n",
        "Berdasarkan hasil evaluasi, berikut analisisnya:\n",
        "\n",
        "🔹 Akurasi setelah tuning: 44.78% → Model belum cukup baik untuk klasifikasi.\n",
        "🔹 Precision, Recall, dan F1-Score rendah untuk semua kelas (~0.43 - 0.48).\n",
        "🔹 Confusion Matrix menunjukkan banyak kesalahan prediksi antar kelas."
      ]
    },
    {
      "cell_type": "markdown",
      "metadata": {
        "id": "Hm3BhSi6N4_l"
      },
      "source": [
        " **rekomendasi** tahapannya.\n",
        "1. Perbandingan Hasil Evaluasi Sebelum dan Setelah Tuning\n",
        "- Akurasi sebelum tuning: 43.92%\n",
        "\n",
        "- Akurasi setelah tuning: 44.78% (peningkatan 0.86%)\n",
        "\n",
        "- Precision sebelum tuning: 0.43 - 0.48\n",
        "\n",
        "- Precision setelah tuning: 0.43 - 0.48 (tidak ada perubahan signifikan)\n",
        "\n",
        "- Recall sebelum tuning: 0.33 - 0.52\n",
        "\n",
        "- Recall setelah tuning: 0.34 - 0.52 (sedikit meningkat)\n",
        "\n",
        "- F1-Score sebelum tuning: 0.38 - 0.47\n",
        "\n",
        "- F1-Score setelah tuning: 0.38 - 0.47 (tidak ada perubahan signifikan)\n",
        "\n",
        "2. Identifikasi kelemahan model, seperti:\\\n",
        "   **Precision atau Recall rendah untuk kelas tertentu**\n",
        "   - Precision atau Recall rendah untuk kelas tertentu.\n",
        "   - Recall untuk kelas 2 hanya 34%, yang berarti model sering salah mengklasifikasikan instance dari kelas ini.\n",
        "   - Precision pada semua kelas masih rendah (~0.43 - 0.48), menunjukkan model sering salah memprediksi.\n",
        "\n",
        "   **Overfitting atau Underfitting?**\n",
        "   - Model kemungkinan underfitting, karena performa tetap rendah meskipun sudah dilakukan tuning.\n",
        "   - KNN mungkin tidak optimal untuk dataset ini, terutama jika ada banyak fitur yang kurang relevan atau terdapat noise.\n",
        "\n",
        "3. Rekomendasi Tindakan Lanjutan\n",
        "- Coba algoritma lain\n",
        "- Random Forest atau SVM bisa menjadi pilihan karena lebih fleksibel dalam menangani dataset dengan pola kompleks.\n",
        "- Coba XGBoost, yang sering memberikan hasil lebih baik pada klasifikasi.\n",
        "-  Feature Engineering\n",
        "- Lakukan Feature Selection untuk mengurangi noise dan meningkatkan akurasi.\n",
        "- Uji kembali dengan memilih fitur yang lebih informatif.\n",
        "- Penanganan Data\n",
        "- Jika data tidak seimbang, coba metode Oversampling (SMOTE) atau Undersampling untuk memperbaiki distribusi kelas.\n",
        "- Cek kembali preprocessing seperti normalisasi atau scaling agar fitur memiliki skala yang seragam.\n",
        "\\\\\n"
      ]
    },
    {
      "cell_type": "markdown",
      "metadata": {},
      "source": []
    }
  ],
  "metadata": {
    "colab": {
      "provenance": []
    },
    "kernelspec": {
      "display_name": "Python 3",
      "name": "python3"
    },
    "language_info": {
      "codemirror_mode": {
        "name": "ipython",
        "version": 3
      },
      "file_extension": ".py",
      "mimetype": "text/x-python",
      "name": "python",
      "nbconvert_exporter": "python",
      "pygments_lexer": "ipython3",
      "version": "3.13.2"
    }
  },
  "nbformat": 4,
  "nbformat_minor": 0
}
