{
  "cells": [
    {
      "cell_type": "markdown",
      "metadata": {
        "id": "kZLRMFl0JyyQ"
      },
      "source": [
        "# **1. Perkenalan Dataset**\n"
      ]
    },
    {
      "cell_type": "markdown",
      "metadata": {
        "id": "hssSDn-5n3HR"
      },
      "source": [
        "Tahap pertama, Anda harus mencari dan menggunakan dataset **tanpa label** dengan ketentuan sebagai berikut:\n",
        "\n",
        "1. **Sumber Dataset**:  \n",
        "   Dataset dapat diperoleh dari berbagai sumber, seperti public repositories (*Kaggle*, *UCI ML Repository*, *Open Data*) atau data primer yang Anda kumpulkan sendiri.\n",
        "   \n",
        "2. **Ketentuan Dataset**:\n",
        "   - **Tanpa label**: Dataset tidak boleh memiliki label atau kelas.\n",
        "   - **Jumlah Baris**: Minimal 1000 baris untuk memastikan dataset cukup besar untuk analisis yang bermakna.\n",
        "   - **Tipe Data**: Harus mengandung data **kategorikal** dan **numerikal**.\n",
        "     - *Kategorikal*: Misalnya jenis kelamin, kategori produk.\n",
        "     - *Numerikal*: Misalnya usia, pendapatan, harga.\n",
        "\n",
        "3. **Pembatasan**:  \n",
        "   Dataset yang sudah digunakan dalam latihan clustering (seperti customer segmentation) tidak boleh digunakan."
      ]
    },
    {
      "cell_type": "markdown",
      "metadata": {
        "id": "fKADPWcFKlj3"
      },
      "source": [
        "# **2. Import Library**"
      ]
    },
    {
      "cell_type": "markdown",
      "metadata": {
        "id": "LgA3ERnVn84N"
      },
      "source": [
        "Pada tahap ini, Anda perlu mengimpor beberapa pustaka (library) Python yang dibutuhkan untuk analisis data dan pembangunan model machine learning."
      ]
    },
    {
      "cell_type": "code",
      "execution_count": 63,
      "metadata": {
        "id": "BlmvjLY9M4Yj"
      },
      "outputs": [],
      "source": [
        "import pandas as pd\n",
        "import numpy as np\n",
        "import matplotlib.pyplot as plt\n",
        "import seaborn as sns\n",
        "from sklearn.preprocessing import StandardScaler, LabelEncoder, MinMaxScaler\n",
        "from sklearn.cluster import KMeans\n",
        "from sklearn.metrics import silhouette_score"
      ]
    },
    {
      "cell_type": "markdown",
      "metadata": {
        "id": "f3YIEnAFKrKL"
      },
      "source": [
        "# **3. Memuat Dataset**"
      ]
    },
    {
      "cell_type": "markdown",
      "metadata": {
        "id": "Ey3ItwTen_7E"
      },
      "source": [
        "Pada tahap ini, Anda perlu memuat dataset ke dalam notebook. Jika dataset dalam format CSV, Anda bisa menggunakan pustaka pandas untuk membacanya. Pastikan untuk mengecek beberapa baris awal dataset untuk memahami strukturnya dan memastikan data telah dimuat dengan benar.\n",
        "\n",
        "Jika dataset berada di Google Drive, pastikan Anda menghubungkan Google Drive ke Colab terlebih dahulu. Setelah dataset berhasil dimuat, langkah berikutnya adalah memeriksa kesesuaian data dan siap untuk dianalisis lebih lanjut."
      ]
    },
    {
      "cell_type": "code",
      "execution_count": 64,
      "metadata": {
        "id": "GHCGNTyrM5fS"
      },
      "outputs": [
        {
          "data": {
            "text/html": [
              "<div>\n",
              "<style scoped>\n",
              "    .dataframe tbody tr th:only-of-type {\n",
              "        vertical-align: middle;\n",
              "    }\n",
              "\n",
              "    .dataframe tbody tr th {\n",
              "        vertical-align: top;\n",
              "    }\n",
              "\n",
              "    .dataframe thead th {\n",
              "        text-align: right;\n",
              "    }\n",
              "</style>\n",
              "<table border=\"1\" class=\"dataframe\">\n",
              "  <thead>\n",
              "    <tr style=\"text-align: right;\">\n",
              "      <th></th>\n",
              "      <th>provinsi</th>\n",
              "      <th>jenis</th>\n",
              "      <th>daerah</th>\n",
              "      <th>tahun</th>\n",
              "      <th>periode</th>\n",
              "      <th>gk</th>\n",
              "    </tr>\n",
              "  </thead>\n",
              "  <tbody>\n",
              "    <tr>\n",
              "      <th>0</th>\n",
              "      <td>ACEH</td>\n",
              "      <td>MAKANAN</td>\n",
              "      <td>PERKOTAAN</td>\n",
              "      <td>2015</td>\n",
              "      <td>MARET</td>\n",
              "      <td>293697.0</td>\n",
              "    </tr>\n",
              "    <tr>\n",
              "      <th>1</th>\n",
              "      <td>ACEH</td>\n",
              "      <td>MAKANAN</td>\n",
              "      <td>PERKOTAAN</td>\n",
              "      <td>2015</td>\n",
              "      <td>SEPTEMBER</td>\n",
              "      <td>302128.0</td>\n",
              "    </tr>\n",
              "    <tr>\n",
              "      <th>2</th>\n",
              "      <td>ACEH</td>\n",
              "      <td>MAKANAN</td>\n",
              "      <td>PERKOTAAN</td>\n",
              "      <td>2016</td>\n",
              "      <td>MARET</td>\n",
              "      <td>306243.0</td>\n",
              "    </tr>\n",
              "    <tr>\n",
              "      <th>3</th>\n",
              "      <td>ACEH</td>\n",
              "      <td>MAKANAN</td>\n",
              "      <td>PERKOTAAN</td>\n",
              "      <td>2016</td>\n",
              "      <td>SEPTEMBER</td>\n",
              "      <td>319768.0</td>\n",
              "    </tr>\n",
              "    <tr>\n",
              "      <th>4</th>\n",
              "      <td>ACEH</td>\n",
              "      <td>MAKANAN</td>\n",
              "      <td>PERDESAAN</td>\n",
              "      <td>2015</td>\n",
              "      <td>MARET</td>\n",
              "      <td>297479.0</td>\n",
              "    </tr>\n",
              "  </tbody>\n",
              "</table>\n",
              "</div>"
            ],
            "text/plain": [
              "  provinsi    jenis     daerah  tahun    periode        gk\n",
              "0     ACEH  MAKANAN  PERKOTAAN   2015      MARET  293697.0\n",
              "1     ACEH  MAKANAN  PERKOTAAN   2015  SEPTEMBER  302128.0\n",
              "2     ACEH  MAKANAN  PERKOTAAN   2016      MARET  306243.0\n",
              "3     ACEH  MAKANAN  PERKOTAAN   2016  SEPTEMBER  319768.0\n",
              "4     ACEH  MAKANAN  PERDESAAN   2015      MARET  297479.0"
            ]
          },
          "execution_count": 64,
          "metadata": {},
          "output_type": "execute_result"
        }
      ],
      "source": [
        "# Load dataset\n",
        "file_path = \"https://raw.githubusercontent.com/SoraIroShiro/submission_basic_ML/refs/heads/main/garisKemiskinan.csv\"\n",
        "df = pd.read_csv(file_path)\n",
        "\n",
        "# Menampilkan 5 baris pertama\n",
        "df.head()"
      ]
    },
    {
      "cell_type": "markdown",
      "metadata": {
        "id": "bgZkbJLpK9UR"
      },
      "source": [
        "# **4. Exploratory Data Analysis (EDA)**\n",
        "\n",
        "Pada tahap ini, Anda akan melakukan **Exploratory Data Analysis (EDA)** untuk memahami karakteristik dataset. EDA bertujuan untuk:\n",
        "\n",
        "1. **Memahami Struktur Data**\n",
        "   - Tinjau jumlah baris dan kolom dalam dataset.  \n",
        "   - Tinjau jenis data di setiap kolom (numerikal atau kategorikal).\n",
        "\n",
        "2. **Menangani Data yang Hilang**  \n",
        "   - Identifikasi dan analisis data yang hilang (*missing values*). Tentukan langkah-langkah yang diperlukan untuk menangani data yang hilang, seperti pengisian atau penghapusan data tersebut.\n",
        "\n",
        "3. **Analisis Distribusi dan Korelasi**  \n",
        "   - Analisis distribusi variabel numerik dengan statistik deskriptif dan visualisasi seperti histogram atau boxplot.  \n",
        "   - Periksa hubungan antara variabel menggunakan matriks korelasi atau scatter plot.\n",
        "\n",
        "4. **Visualisasi Data**  \n",
        "   - Buat visualisasi dasar seperti grafik distribusi dan diagram batang untuk variabel kategorikal.  \n",
        "   - Gunakan heatmap atau pairplot untuk menganalisis korelasi antar variabel.\n",
        "\n",
        "Tujuan dari EDA adalah untuk memperoleh wawasan awal yang mendalam mengenai data dan menentukan langkah selanjutnya dalam analisis atau pemodelan."
      ]
    },
    {
      "cell_type": "code",
      "execution_count": 65,
      "metadata": {
        "id": "dKeejtvxM6X1"
      },
      "outputs": [
        {
          "name": "stdout",
          "output_type": "stream",
          "text": [
            "Jumlah baris dan kolom: (5460, 6)\n",
            "<class 'pandas.core.frame.DataFrame'>\n",
            "RangeIndex: 5460 entries, 0 to 5459\n",
            "Data columns (total 6 columns):\n",
            " #   Column    Non-Null Count  Dtype  \n",
            "---  ------    --------------  -----  \n",
            " 0   provinsi  5460 non-null   object \n",
            " 1   jenis     5460 non-null   object \n",
            " 2   daerah    5460 non-null   object \n",
            " 3   tahun     5460 non-null   int64  \n",
            " 4   periode   5460 non-null   object \n",
            " 5   gk        5261 non-null   float64\n",
            "dtypes: float64(1), int64(1), object(4)\n",
            "memory usage: 256.1+ KB\n",
            "None\n"
          ]
        },
        {
          "data": {
            "text/html": [
              "<div>\n",
              "<style scoped>\n",
              "    .dataframe tbody tr th:only-of-type {\n",
              "        vertical-align: middle;\n",
              "    }\n",
              "\n",
              "    .dataframe tbody tr th {\n",
              "        vertical-align: top;\n",
              "    }\n",
              "\n",
              "    .dataframe thead th {\n",
              "        text-align: right;\n",
              "    }\n",
              "</style>\n",
              "<table border=\"1\" class=\"dataframe\">\n",
              "  <thead>\n",
              "    <tr style=\"text-align: right;\">\n",
              "      <th></th>\n",
              "      <th>provinsi</th>\n",
              "      <th>jenis</th>\n",
              "      <th>daerah</th>\n",
              "      <th>tahun</th>\n",
              "      <th>periode</th>\n",
              "      <th>gk</th>\n",
              "    </tr>\n",
              "  </thead>\n",
              "  <tbody>\n",
              "    <tr>\n",
              "      <th>0</th>\n",
              "      <td>ACEH</td>\n",
              "      <td>MAKANAN</td>\n",
              "      <td>PERKOTAAN</td>\n",
              "      <td>2015</td>\n",
              "      <td>MARET</td>\n",
              "      <td>293697.0</td>\n",
              "    </tr>\n",
              "    <tr>\n",
              "      <th>1</th>\n",
              "      <td>ACEH</td>\n",
              "      <td>MAKANAN</td>\n",
              "      <td>PERKOTAAN</td>\n",
              "      <td>2015</td>\n",
              "      <td>SEPTEMBER</td>\n",
              "      <td>302128.0</td>\n",
              "    </tr>\n",
              "    <tr>\n",
              "      <th>2</th>\n",
              "      <td>ACEH</td>\n",
              "      <td>MAKANAN</td>\n",
              "      <td>PERKOTAAN</td>\n",
              "      <td>2016</td>\n",
              "      <td>MARET</td>\n",
              "      <td>306243.0</td>\n",
              "    </tr>\n",
              "    <tr>\n",
              "      <th>3</th>\n",
              "      <td>ACEH</td>\n",
              "      <td>MAKANAN</td>\n",
              "      <td>PERKOTAAN</td>\n",
              "      <td>2016</td>\n",
              "      <td>SEPTEMBER</td>\n",
              "      <td>319768.0</td>\n",
              "    </tr>\n",
              "    <tr>\n",
              "      <th>4</th>\n",
              "      <td>ACEH</td>\n",
              "      <td>MAKANAN</td>\n",
              "      <td>PERDESAAN</td>\n",
              "      <td>2015</td>\n",
              "      <td>MARET</td>\n",
              "      <td>297479.0</td>\n",
              "    </tr>\n",
              "  </tbody>\n",
              "</table>\n",
              "</div>"
            ],
            "text/plain": [
              "  provinsi    jenis     daerah  tahun    periode        gk\n",
              "0     ACEH  MAKANAN  PERKOTAAN   2015      MARET  293697.0\n",
              "1     ACEH  MAKANAN  PERKOTAAN   2015  SEPTEMBER  302128.0\n",
              "2     ACEH  MAKANAN  PERKOTAAN   2016      MARET  306243.0\n",
              "3     ACEH  MAKANAN  PERKOTAAN   2016  SEPTEMBER  319768.0\n",
              "4     ACEH  MAKANAN  PERDESAAN   2015      MARET  297479.0"
            ]
          },
          "metadata": {},
          "output_type": "display_data"
        },
        {
          "data": {
            "text/html": [
              "<div>\n",
              "<style scoped>\n",
              "    .dataframe tbody tr th:only-of-type {\n",
              "        vertical-align: middle;\n",
              "    }\n",
              "\n",
              "    .dataframe tbody tr th {\n",
              "        vertical-align: top;\n",
              "    }\n",
              "\n",
              "    .dataframe thead th {\n",
              "        text-align: right;\n",
              "    }\n",
              "</style>\n",
              "<table border=\"1\" class=\"dataframe\">\n",
              "  <thead>\n",
              "    <tr style=\"text-align: right;\">\n",
              "      <th></th>\n",
              "      <th>tahun</th>\n",
              "      <th>gk</th>\n",
              "    </tr>\n",
              "  </thead>\n",
              "  <tbody>\n",
              "    <tr>\n",
              "      <th>count</th>\n",
              "      <td>5460.000000</td>\n",
              "      <td>5261.000000</td>\n",
              "    </tr>\n",
              "    <tr>\n",
              "      <th>mean</th>\n",
              "      <td>2018.115385</td>\n",
              "      <td>303904.185516</td>\n",
              "    </tr>\n",
              "    <tr>\n",
              "      <th>std</th>\n",
              "      <td>2.577159</td>\n",
              "      <td>158176.024903</td>\n",
              "    </tr>\n",
              "    <tr>\n",
              "      <th>min</th>\n",
              "      <td>2013.000000</td>\n",
              "      <td>48561.000000</td>\n",
              "    </tr>\n",
              "    <tr>\n",
              "      <th>25%</th>\n",
              "      <td>2016.000000</td>\n",
              "      <td>144674.000000</td>\n",
              "    </tr>\n",
              "    <tr>\n",
              "      <th>50%</th>\n",
              "      <td>2018.000000</td>\n",
              "      <td>313294.000000</td>\n",
              "    </tr>\n",
              "    <tr>\n",
              "      <th>75%</th>\n",
              "      <td>2020.000000</td>\n",
              "      <td>410188.000000</td>\n",
              "    </tr>\n",
              "    <tr>\n",
              "      <th>max</th>\n",
              "      <td>2022.000000</td>\n",
              "      <td>872843.000000</td>\n",
              "    </tr>\n",
              "  </tbody>\n",
              "</table>\n",
              "</div>"
            ],
            "text/plain": [
              "             tahun             gk\n",
              "count  5460.000000    5261.000000\n",
              "mean   2018.115385  303904.185516\n",
              "std       2.577159  158176.024903\n",
              "min    2013.000000   48561.000000\n",
              "25%    2016.000000  144674.000000\n",
              "50%    2018.000000  313294.000000\n",
              "75%    2020.000000  410188.000000\n",
              "max    2022.000000  872843.000000"
            ]
          },
          "metadata": {},
          "output_type": "display_data"
        }
      ],
      "source": [
        "# Memahami struktur data\n",
        "# Melihat jumlah baris dan kolom\n",
        "print(f\"Jumlah baris dan kolom: {df.shape}\")\n",
        "\n",
        "# Melihat informasi dataset\n",
        "print(df.info())\n",
        "\n",
        "# Menampilkan beberapa baris pertama dataset\n",
        "display(df.head())\n",
        "\n",
        "# Melihat ringkasan statistik deskriptif untuk data numerik\n",
        "display(df.describe())"
      ]
    },
    {
      "cell_type": "code",
      "execution_count": 66,
      "metadata": {},
      "outputs": [
        {
          "data": {
            "text/plain": [
              "(provinsi      0\n",
              " jenis         0\n",
              " daerah        0\n",
              " tahun         0\n",
              " periode       0\n",
              " gk          199\n",
              " dtype: int64,\n",
              " provinsi    0\n",
              " jenis       0\n",
              " daerah      0\n",
              " tahun       0\n",
              " periode     0\n",
              " gk          0\n",
              " dtype: int64,\n",
              " (5261, 6))"
            ]
          },
          "execution_count": 66,
          "metadata": {},
          "output_type": "execute_result"
        }
      ],
      "source": [
        "# Menampilkan jumlah missing values sebelum penghapusan\n",
        "missing_values_before = df.isnull().sum()\n",
        "\n",
        "# Menghapus baris dengan missing values\n",
        "df_cleaned = df.dropna()\n",
        "\n",
        "# Menampilkan jumlah missing values setelah penghapusan\n",
        "missing_values_after = df_cleaned.isnull().sum()\n",
        "\n",
        "# Menampilkan jumlah baris dan kolom setelah menangani data yang hilang\n",
        "shape_after_cleaning = df_cleaned.shape\n",
        "\n",
        "missing_values_before, missing_values_after, shape_after_cleaning"
      ]
    },
    {
      "cell_type": "code",
      "execution_count": 67,
      "metadata": {},
      "outputs": [
        {
          "data": {
            "image/png": "[encoded data removed]",
            "text/plain": [
              "<Figure size 1200x800 with 2 Axes>"
            ]
          },
          "metadata": {},
          "output_type": "display_data"
        },
        {
          "data": {
            "image/png": "[encoded data removed]",
            "text/plain": [
              "<Figure size 1000x600 with 2 Axes>"
            ]
          },
          "metadata": {},
          "output_type": "display_data"
        }
      ],
      "source": [
        "# Analisis Distribusi Variabel Numerik\n",
        "numerical_columns = df_cleaned.select_dtypes(include=[np.number]).columns\n",
        "\n",
        "# Plot distribusi setiap variabel numerik\n",
        "plt.figure(figsize=(12, 8))\n",
        "for i, col in enumerate(numerical_columns, 1):\n",
        "    plt.subplot(3, 3, i)\n",
        "    sns.histplot(df_cleaned[col], kde=True, bins=30)\n",
        "    plt.title(f'Distribusi {col}')\n",
        "plt.tight_layout()\n",
        "plt.show()\n",
        "\n",
        "# Korelasi antar variabel numerik\n",
        "plt.figure(figsize=(10, 6))\n",
        "sns.heatmap(df_cleaned[numerical_columns].corr(), annot=True, cmap='coolwarm', fmt=\".2f\", linewidths=0.5)\n",
        "plt.title(\"Matriks Korelasi\")\n",
        "plt.show()"
      ]
    },
    {
      "cell_type": "markdown",
      "metadata": {
        "id": "cpgHfgnSK3ip"
      },
      "source": [
        "# **5. Data Preprocessing**"
      ]
    },
    {
      "cell_type": "markdown",
      "metadata": {
        "id": "COf8KUPXLg5r"
      },
      "source": [
        "Pada tahap ini, data preprocessing adalah langkah penting untuk memastikan kualitas data sebelum digunakan dalam model machine learning. Data mentah sering kali mengandung nilai kosong, duplikasi, atau rentang nilai yang tidak konsisten, yang dapat memengaruhi kinerja model. Oleh karena itu, proses ini bertujuan untuk membersihkan dan mempersiapkan data agar analisis berjalan optimal.\n",
        "\n",
        "Berikut adalah tahapan-tahapan yang bisa dilakukan, tetapi **tidak terbatas** pada:\n",
        "1. Menghapus atau Menangani Data Kosong (Missing Values)\n",
        "2. Menghapus Data Duplikat\n",
        "3. Normalisasi atau Standarisasi Fitur\n",
        "4. Deteksi dan Penanganan Outlier\n",
        "5. Encoding Data Kategorikal\n",
        "6. Binning (Pengelompokan Data)\n",
        "\n",
        "Cukup sesuaikan dengan karakteristik data yang kamu gunakan yah."
      ]
    },
    {
      "cell_type": "code",
      "execution_count": 68,
      "metadata": {
        "id": "WzBGjcbQM7N8"
      },
      "outputs": [
        {
          "name": "stderr",
          "output_type": "stream",
          "text": [
            "C:\\Users\\Reina_Chi\\AppData\\Local\\Temp\\ipykernel_5236\\3282425161.py:6: FutureWarning: Setting an item of incompatible dtype is deprecated and will raise in a future error of pandas. Value '[-1.30206547 -1.30206547 -0.90071989 ...  1.10600804  1.50735363\n",
            "  1.50735363]' has dtype incompatible with int64, please explicitly cast to a compatible dtype first.\n",
            "  df_cleaned.loc[:, numerical_features] = scaler.fit_transform(df_cleaned[numerical_features])\n"
          ]
        },
        {
          "data": {
            "text/html": [
              "<div>\n",
              "<style scoped>\n",
              "    .dataframe tbody tr th:only-of-type {\n",
              "        vertical-align: middle;\n",
              "    }\n",
              "\n",
              "    .dataframe tbody tr th {\n",
              "        vertical-align: top;\n",
              "    }\n",
              "\n",
              "    .dataframe thead th {\n",
              "        text-align: right;\n",
              "    }\n",
              "</style>\n",
              "<table border=\"1\" class=\"dataframe\">\n",
              "  <thead>\n",
              "    <tr style=\"text-align: right;\">\n",
              "      <th></th>\n",
              "      <th>provinsi</th>\n",
              "      <th>jenis</th>\n",
              "      <th>daerah</th>\n",
              "      <th>tahun</th>\n",
              "      <th>periode</th>\n",
              "      <th>gk</th>\n",
              "    </tr>\n",
              "  </thead>\n",
              "  <tbody>\n",
              "    <tr>\n",
              "      <th>0</th>\n",
              "      <td>ACEH</td>\n",
              "      <td>MAKANAN</td>\n",
              "      <td>PERKOTAAN</td>\n",
              "      <td>-1.302065</td>\n",
              "      <td>MARET</td>\n",
              "      <td>-0.064537</td>\n",
              "    </tr>\n",
              "    <tr>\n",
              "      <th>1</th>\n",
              "      <td>ACEH</td>\n",
              "      <td>MAKANAN</td>\n",
              "      <td>PERKOTAAN</td>\n",
              "      <td>-1.302065</td>\n",
              "      <td>SEPTEMBER</td>\n",
              "      <td>-0.011230</td>\n",
              "    </tr>\n",
              "    <tr>\n",
              "      <th>2</th>\n",
              "      <td>ACEH</td>\n",
              "      <td>MAKANAN</td>\n",
              "      <td>PERKOTAAN</td>\n",
              "      <td>-0.900720</td>\n",
              "      <td>MARET</td>\n",
              "      <td>0.014788</td>\n",
              "    </tr>\n",
              "    <tr>\n",
              "      <th>3</th>\n",
              "      <td>ACEH</td>\n",
              "      <td>MAKANAN</td>\n",
              "      <td>PERKOTAAN</td>\n",
              "      <td>-0.900720</td>\n",
              "      <td>SEPTEMBER</td>\n",
              "      <td>0.100302</td>\n",
              "    </tr>\n",
              "    <tr>\n",
              "      <th>4</th>\n",
              "      <td>ACEH</td>\n",
              "      <td>MAKANAN</td>\n",
              "      <td>PERDESAAN</td>\n",
              "      <td>-1.302065</td>\n",
              "      <td>MARET</td>\n",
              "      <td>-0.040624</td>\n",
              "    </tr>\n",
              "  </tbody>\n",
              "</table>\n",
              "</div>"
            ],
            "text/plain": [
              "  provinsi    jenis     daerah     tahun    periode        gk\n",
              "0     ACEH  MAKANAN  PERKOTAAN -1.302065      MARET -0.064537\n",
              "1     ACEH  MAKANAN  PERKOTAAN -1.302065  SEPTEMBER -0.011230\n",
              "2     ACEH  MAKANAN  PERKOTAAN -0.900720      MARET  0.014788\n",
              "3     ACEH  MAKANAN  PERKOTAAN -0.900720  SEPTEMBER  0.100302\n",
              "4     ACEH  MAKANAN  PERDESAAN -1.302065      MARET -0.040624"
            ]
          },
          "execution_count": 68,
          "metadata": {},
          "output_type": "execute_result"
        }
      ],
      "source": [
        "# 2. Normalisasi atau Standarisasi Fitur\n",
        "scaler = StandardScaler()\n",
        "numerical_features = df_cleaned.select_dtypes(include=['number']).columns\n",
        "\n",
        "# Menyimpan hasil normalisasi dalam DataFrame baru\n",
        "df_cleaned.loc[:, numerical_features] = scaler.fit_transform(df_cleaned[numerical_features])\n",
        "\n",
        "# Menampilkan hasil normalisasi (5 data pertama)\n",
        "df_cleaned.head()"
      ]
    },
    {
      "cell_type": "code",
      "execution_count": 69,
      "metadata": {},
      "outputs": [
        {
          "data": {
            "text/plain": [
              "(5256, 6)"
            ]
          },
          "execution_count": 69,
          "metadata": {},
          "output_type": "execute_result"
        }
      ],
      "source": [
        "# 3. Deteksi Outlier menggunakan IQR\n",
        "Q1 = df_cleaned[numerical_features].quantile(0.25)\n",
        "Q3 = df_cleaned[numerical_features].quantile(0.75)\n",
        "IQR = Q3 - Q1\n",
        "\n",
        "# Menentukan batas bawah dan atas untuk outlier\n",
        "lower_bound = Q1 - 1.5 * IQR\n",
        "upper_bound = Q3 + 1.5 * IQR\n",
        "\n",
        "# Menyaring data tanpa outlier\n",
        "df_no_outliers = df_cleaned[~((df_cleaned[numerical_features] < lower_bound) | (df_cleaned[numerical_features] > upper_bound)).any(axis=1)]\n",
        "\n",
        "# Menampilkan jumlah baris dan kolom setelah menghapus outlier\n",
        "df_no_outliers.shape"
      ]
    },
    {
      "cell_type": "code",
      "execution_count": 70,
      "metadata": {},
      "outputs": [
        {
          "name": "stdout",
          "output_type": "stream",
          "text": [
            "  provinsi jenis daerah     tahun periode        gk\n",
            "0        0     0      2 -1.302065       0 -0.064537\n",
            "1        0     0      2 -1.302065       1 -0.011230\n",
            "2        0     0      2 -0.900720       0  0.014788\n",
            "3        0     0      2 -0.900720       1  0.100302\n",
            "4        0     0      0 -1.302065       0 -0.040624\n",
            "Jumlah baris dan kolom setelah preprocessing: (5256, 6)\n"
          ]
        }
      ],
      "source": [
        "# 4. Encoding Data Kategorikal\n",
        "categorical_features = df_no_outliers.select_dtypes(include=['object']).columns\n",
        "\n",
        "# Menggunakan LabelEncoder untuk mengonversi data kategorikal\n",
        "label_encoders = {}\n",
        "for col in categorical_features:\n",
        "    le = LabelEncoder()\n",
        "    df_no_outliers.loc[:, col] = le.fit_transform(df_no_outliers[col]) \n",
        "    label_encoders[col] = le\n",
        "\n",
        "# Menampilkan hasil encoding (5 data pertama)\n",
        "df_no_outliers.head()\n",
        "\n",
        "# 5️⃣ Simpan hasil preprocessing ke dalam df_preprocessed\n",
        "df_preprocessed = df_no_outliers.copy()\n",
        "\n",
        "# 6️⃣ Tampilkan hasil akhir\n",
        "print(df_preprocessed.head())\n",
        "print(f\"Jumlah baris dan kolom setelah preprocessing: {df_preprocessed.shape}\")"
      ]
    },
    {
      "cell_type": "markdown",
      "metadata": {
        "id": "BR73dCnrLEiq"
      },
      "source": [
        "# **6. Pembangunan Model Clustering**"
      ]
    },
    {
      "cell_type": "markdown",
      "metadata": {
        "id": "Fkd_QHXWMBDr"
      },
      "source": [
        "## **a. Pembangunan Model Clustering**"
      ]
    },
    {
      "cell_type": "markdown",
      "metadata": {
        "id": "Kn6Y2qbqMVLP"
      },
      "source": [
        "Pada tahap ini, Anda membangun model clustering dengan memilih algoritma yang sesuai untuk mengelompokkan data berdasarkan kesamaan. Berikut adalah **rekomendasi** tahapannya.\n",
        "1. Pilih algoritma clustering yang sesuai.\n",
        "2. Latih model dengan data menggunakan algoritma tersebut."
      ]
    },
    {
      "cell_type": "code",
      "execution_count": 71,
      "metadata": {
        "id": "hgYvwWOzM93L"
      },
      "outputs": [
        {
          "data": {
            "image/png": "[encoded data removed]",
            "text/plain": [
              "<Figure size 800x500 with 1 Axes>"
            ]
          },
          "metadata": {},
          "output_type": "display_data"
        }
      ],
      "source": [
        "# Menentukan range jumlah cluster yang akan diuji\n",
        "cluster_range = range(2, 11)  # Coba dari 2 hingga 10 cluster\n",
        "inertia = []\n",
        "\n",
        "for k in cluster_range:\n",
        "    kmeans = KMeans(n_clusters=k, random_state=42, n_init=10)\n",
        "    kmeans.fit(df_preprocessed)\n",
        "    inertia.append(kmeans.inertia_)  # Simpan nilai inertia\n",
        "\n",
        "# Visualisasi Elbow Method\n",
        "plt.figure(figsize=(8, 5))\n",
        "plt.plot(cluster_range, inertia, marker='o', linestyle='-')\n",
        "plt.xlabel('Jumlah Cluster (k)')\n",
        "plt.ylabel('Inertia')\n",
        "plt.title('Elbow Method untuk Menentukan Jumlah Cluster Optimal')\n",
        "plt.show()"
      ]
    },
    {
      "cell_type": "markdown",
      "metadata": {
        "id": "zsGVwzPKMEvn"
      },
      "source": [
        "## **b. Evaluasi Model Clustering**"
      ]
    },
    {
      "cell_type": "markdown",
      "metadata": {
        "id": "qk63ew39MeBf"
      },
      "source": [
        "Untuk menentukan jumlah cluster yang optimal dalam model clustering, Anda dapat menggunakan metode Elbow atau Silhouette Score.\n",
        "\n",
        "Metode ini membantu kita menemukan jumlah cluster yang memberikan pemisahan terbaik antar kelompok data, sehingga model yang dibangun dapat lebih efektif. Berikut adalah **rekomendasi** tahapannya.\n",
        "1. Gunakan Silhouette Score dan Elbow Method untuk menentukan jumlah cluster optimal.\n",
        "2. Hitung Silhouette Score sebagai ukuran kualitas cluster."
      ]
    },
    {
      "cell_type": "code",
      "execution_count": 72,
      "metadata": {
        "id": "yrPkK_bvM-Ya"
      },
      "outputs": [
        {
          "data": {
            "image/png": "[encoded data removed]",
            "text/plain": [
              "<Figure size 800x500 with 1 Axes>"
            ]
          },
          "metadata": {},
          "output_type": "display_data"
        }
      ],
      "source": [
        "silhouette_scores = []\n",
        "\n",
        "for k in cluster_range:\n",
        "    kmeans = KMeans(n_clusters=k, random_state=42, n_init=10)\n",
        "    cluster_labels = kmeans.fit_predict(df_preprocessed)\n",
        "    score = silhouette_score(df_preprocessed, cluster_labels)\n",
        "    silhouette_scores.append(score)\n",
        "\n",
        "# Visualisasi Silhouette Score\n",
        "plt.figure(figsize=(8, 5))\n",
        "plt.plot(cluster_range, silhouette_scores, marker='o', linestyle='-')\n",
        "plt.xlabel('Jumlah Cluster (k)')\n",
        "plt.ylabel('Silhouette Score')\n",
        "plt.title('Silhouette Score untuk Evaluasi Kualitas Clustering')\n",
        "plt.show()"
      ]
    },
    {
      "cell_type": "code",
      "execution_count": 73,
      "metadata": {},
      "outputs": [
        {
          "name": "stdout",
          "output_type": "stream",
          "text": [
            "Cluster\n",
            "3          1368\n",
            "1          1364\n",
            "2          1359\n",
            "0          1165\n",
            "Name: count, dtype: int64\n"
          ]
        }
      ],
      "source": [
        "# Pilih jumlah cluster terbaik dari Elbow Method & Silhouette Score\n",
        "optimal_k = 4  # Sesuaikan berdasarkan hasil analisis sebelumnya\n",
        "\n",
        "# Latih model K-Means\n",
        "kmeans = KMeans(n_clusters=optimal_k, random_state=42, n_init=10)\n",
        "df_preprocessed['Cluster'] = kmeans.fit_predict(df_preprocessed)\n",
        "\n",
        "# Tampilkan hasil clustering\n",
        "print(df_preprocessed[['Cluster']].value_counts())"
      ]
    },
    {
      "cell_type": "markdown",
      "metadata": {},
      "source": [
        "## karena score masih kurang tinggi"
      ]
    },
    {
      "cell_type": "code",
      "execution_count": 74,
      "metadata": {},
      "outputs": [],
      "source": [
        "scaler = MinMaxScaler()\n",
        "df_preprocessed[numerical_features] = scaler.fit_transform(df_preprocessed[numerical_features])"
      ]
    },
    {
      "cell_type": "code",
      "execution_count": null,
      "metadata": {},
      "outputs": [
        {
          "data": {
            "image/png": "[encoded data removed]",
            "text/plain": [
              "<Figure size 800x500 with 1 Axes>"
            ]
          },
          "metadata": {},
          "output_type": "display_data"
        }
      ],
      "source": [
        "silhouette_scores = []\n",
        "\n",
        "for k in cluster_range:\n",
        "    kmeans = KMeans(n_clusters=k, random_state=42, n_init=10)\n",
        "    cluster_labels = kmeans.fit_predict(df_preprocessed)\n",
        "    score = silhouette_score(df_preprocessed, cluster_labels)\n",
        "    silhouette_scores.append(score)\n",
        "\n",
        "# Visualisasi Silhouette Score\n",
        "plt.figure(figsize=(8, 5))\n",
        "plt.plot(cluster_range, silhouette_scores, marker='o', linestyle='-')\n",
        "plt.xlabel('Jumlah Cluster (k)')\n",
        "plt.ylabel('Silhouette Score')\n",
        "plt.title('Silhouette Score untuk Evaluasi Kualitas Clustering')\n",
        "plt.show()"
      ]
    },
    {
      "cell_type": "markdown",
      "metadata": {},
      "source": [
        "## Skor naik menjadi 0.6"
      ]
    },
    {
      "cell_type": "markdown",
      "metadata": {
        "id": "vWZp5vKNQddd"
      },
      "source": [
        "## **c. Feature Selection (Opsional)**"
      ]
    },
    {
      "cell_type": "markdown",
      "metadata": {
        "id": "QIHKgE07Q4c0"
      },
      "source": [
        "Silakan lakukan feature selection jika Anda membutuhkan optimasi model clustering. Jika Anda menerapkan proses ini, silakan lakukan pemodelan dan evaluasi kembali menggunakan kolom-kolom hasil feature selection. Terakhir, bandingkan hasil performa model sebelum dan sesudah menerapkan feature selection."
      ]
    },
    {
      "cell_type": "code",
      "execution_count": 75,
      "metadata": {
        "id": "Vbstha0PRUpI"
      },
      "outputs": [],
      "source": [
        "#Type your code here"
      ]
    },
    {
      "cell_type": "markdown",
      "metadata": {
        "id": "nn01TKkLLRiF"
      },
      "source": [
        "## **d. Visualisasi Hasil Clustering**"
      ]
    },
    {
      "cell_type": "markdown",
      "metadata": {
        "id": "gaz0fnhhMkRI"
      },
      "source": [
        "Setelah model clustering dilatih dan jumlah cluster optimal ditentukan, langkah selanjutnya adalah menampilkan hasil clustering melalui visualisasi.\n",
        "\n",
        "Berikut adalah **rekomendasi** tahapannya.\n",
        "1. Tampilkan hasil clustering dalam bentuk visualisasi, seperti grafik scatter plot atau 2D PCA projection."
      ]
    },
    {
      "cell_type": "code",
      "execution_count": 76,
      "metadata": {
        "id": "lfOjVvfYM-4v"
      },
      "outputs": [],
      "source": [
        "#Type your code here"
      ]
    },
    {
      "cell_type": "markdown",
      "metadata": {
        "id": "X4eydPWJLH4I"
      },
      "source": [
        "## **e. Analisis dan Interpretasi Hasil Cluster**"
      ]
    },
    {
      "cell_type": "markdown",
      "metadata": {
        "id": "mxTeTkTkA7o6"
      },
      "source": [
        "### Interpretasi Target"
      ]
    },
    {
      "cell_type": "markdown",
      "metadata": {
        "id": "NJDsBARmIsbW"
      },
      "source": [
        "**Tutorial: Melakukan Inverse Transform pada Data Target Setelah Clustering**\n",
        "\n",
        "Setelah melakukan clustering dengan model **KMeans**, kita perlu mengembalikan data yang telah diubah (normalisasi, standarisasi, atau label encoding) ke bentuk aslinya. Berikut adalah langkah-langkahnya.\n",
        "\n",
        "---\n",
        "\n",
        "**1. Tambahkan Hasil Label Cluster ke DataFrame**\n",
        "Setelah mendapatkan hasil clustering, kita tambahkan label cluster ke dalam DataFrame yang telah dinormalisasi.\n",
        "\n",
        "```python\n",
        "df_normalized['Cluster'] = model_kmeans.labels_\n",
        "```\n",
        "\n",
        "Lakukan Inverse Transform pada feature yang sudah dilakukan Labelisasi dan Standararisasi. Berikut code untuk melakukannya:\n",
        "label_encoder.inverse_transform(X_Selected[['Fitur']])\n",
        "\n",
        "Lalu masukkan ke dalam kolom dataset asli atau membuat dataframe baru\n",
        "```python\n",
        "df_normalized['Fitur'] = label_encoder.inverse_transform(df_normalized[['Fitur']])\n",
        "```\n",
        "Masukkan Data yang Sudah Di-Inverse ke dalam Dataset Asli atau Buat DataFrame Baru\n",
        "```python\n",
        "df_original['Fitur'] = df_normalized['Fitur']\n",
        "```"
      ]
    },
    {
      "cell_type": "code",
      "execution_count": 77,
      "metadata": {
        "id": "ySc78cHdOiaQ"
      },
      "outputs": [],
      "source": [
        "# Type your code here\n"
      ]
    },
    {
      "cell_type": "markdown",
      "metadata": {
        "id": "vITTtdoT_fIF"
      },
      "source": [
        "### Inverse Data Jika Melakukan Normalisasi/Standardisasi"
      ]
    },
    {
      "cell_type": "markdown",
      "metadata": {
        "id": "bUGkyAvnKRrk"
      },
      "source": [
        "Inverse Transform untuk Data yang Distandarisasi\n",
        "Jika data numerik telah dinormalisasi menggunakan StandardScaler atau MinMaxScaler, kita bisa mengembalikannya ke skala asli:\n",
        "```python\n",
        "df_normalized[['Fitur_Numerik']] = scaler.inverse_transform(df_normalized[['Fitur_Numerik']])\n",
        "```"
      ]
    },
    {
      "cell_type": "code",
      "execution_count": 78,
      "metadata": {
        "id": "aIGQ_6wKGbVz"
      },
      "outputs": [],
      "source": [
        "# Type your code here"
      ]
    },
    {
      "cell_type": "markdown",
      "metadata": {
        "id": "SENfLnfRMpC-"
      },
      "source": [
        "Setelah melakukan clustering, langkah selanjutnya adalah menganalisis karakteristik dari masing-masing cluster berdasarkan fitur yang tersedia.\n",
        "\n",
        "Berikut adalah **rekomendasi** tahapannya.\n",
        "1. Analisis karakteristik tiap cluster berdasarkan fitur yang tersedia (misalnya, distribusi nilai dalam cluster).\n",
        "2. Berikan interpretasi: Apakah hasil clustering sesuai dengan ekspektasi dan logika bisnis? Apakah ada pola tertentu yang bisa dimanfaatkan?"
      ]
    },
    {
      "cell_type": "code",
      "execution_count": 79,
      "metadata": {
        "id": "MFq0x-OzM_Wt"
      },
      "outputs": [],
      "source": [
        "# Type your code here"
      ]
    },
    {
      "cell_type": "markdown",
      "metadata": {
        "id": "JfgVMEBDS3KG"
      },
      "source": [
        "Tulis hasil interpretasinya di sini.\n",
        "1. Cluster 1:\n",
        "2. Cluster 2:\n",
        "3. Cluster 3:"
      ]
    },
    {
      "cell_type": "markdown",
      "metadata": {
        "id": "hOygRVqs_vdU"
      },
      "source": [
        "# Contoh interpretasi [TEMPLATE]\n",
        "# Analisis Karakteristik Cluster dari Model KMeans\n",
        "\n",
        "Berikut adalah analisis karakteristik untuk setiap cluster yang dihasilkan dari model KMeans.\n",
        "\n",
        "## Cluster 1:\n",
        "- **Rata-rata Annual Income (k$):** 48,260  \n",
        "- **Rata-rata Spending Score (1-100):** 56.48  \n",
        "- **Analisis:** Cluster ini mencakup pelanggan dengan pendapatan tahunan menengah dan tingkat pengeluaran yang cukup tinggi. Pelanggan dalam cluster ini cenderung memiliki daya beli yang moderat dan mereka lebih cenderung untuk membelanjakan sebagian besar pendapatan mereka.\n",
        "\n",
        "## Cluster 2:\n",
        "- **Rata-rata Annual Income (k$):** 86,540  \n",
        "- **Rata-rata Spending Score (1-100):** 82.13  \n",
        "- **Analisis:** Cluster ini menunjukkan pelanggan dengan pendapatan tahunan tinggi dan pengeluaran yang sangat tinggi. Pelanggan di cluster ini merupakan kelompok premium dengan daya beli yang kuat dan cenderung mengeluarkan uang dalam jumlah besar untuk produk atau layanan.\n",
        "\n",
        "## Cluster 3:\n",
        "- **Rata-rata Annual Income (k$):** 87,000  \n",
        "- **Rata-rata Spending Score (1-100):** 18.63  \n",
        "- **Analisis:** Cluster ini terdiri dari pelanggan dengan pendapatan tahunan yang tinggi tetapi pengeluaran yang rendah. Mereka mungkin memiliki kapasitas finansial yang baik namun tidak terlalu aktif dalam berbelanja. Ini bisa menunjukkan bahwa mereka lebih selektif dalam pengeluaran mereka atau mungkin lebih cenderung untuk menyimpan uang."
      ]
    },
    {
      "cell_type": "markdown",
      "metadata": {
        "id": "jaYP1fx5VgWO"
      },
      "source": [
        "# **7. Mengeksport Data**\n",
        "\n",
        "Simpan hasilnya ke dalam file CSV."
      ]
    },
    {
      "cell_type": "code",
      "execution_count": null,
      "metadata": {
        "id": "fkbg_o80aRSH"
      },
      "outputs": [],
      "source": []
    }
  ],
  "metadata": {
    "colab": {
      "provenance": []
    },
    "kernelspec": {
      "display_name": "Python 3",
      "name": "python3"
    },
    "language_info": {
      "codemirror_mode": {
        "name": "ipython",
        "version": 3
      },
      "file_extension": ".py",
      "mimetype": "text/x-python",
      "name": "python",
      "nbconvert_exporter": "python",
      "pygments_lexer": "ipython3",
      "version": "3.13.2"
    }
  },
  "nbformat": 4,
  "nbformat_minor": 0
}
